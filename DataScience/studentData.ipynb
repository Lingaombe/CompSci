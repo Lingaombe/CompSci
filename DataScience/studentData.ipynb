{
 "cells": [
  {
   "cell_type": "code",
   "execution_count": null,
   "metadata": {
    "colab": {
     "base_uri": "https://localhost:8080/"
    },
    "executionInfo": {
     "elapsed": 26,
     "status": "ok",
     "timestamp": 1754544385430,
     "user": {
      "displayName": "Manisha Sutar",
      "userId": "04587822868195277008"
     },
     "user_tz": -330
    },
    "id": "pfp5GiJIynRp",
    "outputId": "a7c16e8a-dbfc-4e45-c904-a972c9854e9d"
   },
   "outputs": [
    {
     "name": "stdout",
     "output_type": "stream",
     "text": [
      "Average scores for each subject: 103.0\n",
      "Average scores for each subject: 77.0\n",
      "Average scores for each subject: 79.6\n",
      "subject1 has the highest avg score : 103.0\n"
     ]
    }
   ],
   "source": [
    "# student marks analysis using numpy\n",
    "\n",
    "#you are given a dataset of student marks store in a NumPy\n",
    "import numpy as np\n",
    "student=np.array([[101,78,85,90],\n",
    "[102,65,70,75],\n",
    "[103,80,88,82],\n",
    "[104,72,60,65],\n",
    "[105,90,95,92]])\n",
    "\n",
    "average_sub1= np.mean(student[:,3])\n",
    "average_sub2= np.mean(student[:,1])\n",
    "average_sub3= np.mean(student[:,2])\n",
    "\n",
    "print(\"Average scores for each subject:\", average_sub1)\n",
    "print(\"Average scores for each subject:\", average_sub2)\n",
    "print(\"Average scores for each subject:\", average_sub3)\n",
    "\n",
    "\n",
    "avg=[average_sub1,average_sub2,average_sub3]\n",
    "highest_avg=np.argmax(avg)\n",
    "\n",
    "print(f\"subject{highest_avg+1} has the highest avg score : {avg[highest_avg]}\")\n",
    "\n",
    "\n"
   ]
  }
 ],
 "metadata": {
  "colab": {
   "authorship_tag": "ABX9TyPNFcX0YA8WNBfYSbWZASnY",
   "provenance": []
  },
  "kernelspec": {
   "display_name": "Python 3",
   "name": "python3"
  },
  "language_info": {
   "name": "python"
  }
 },
 "nbformat": 4,
 "nbformat_minor": 0
}
