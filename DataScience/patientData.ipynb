{
 "cells": [
  {
   "cell_type": "code",
   "execution_count": null,
   "metadata": {
    "colab": {
     "base_uri": "https://localhost:8080/"
    },
    "executionInfo": {
     "elapsed": 40,
     "status": "ok",
     "timestamp": 1755839121771,
     "user": {
      "displayName": "Manisha Sutar",
      "userId": "04587822868195277008"
     },
     "user_tz": -330
    },
    "id": "WzX0DHs-B7Nf",
    "outputId": "ea84e7e5-7fd4-4544-cd71-6983215c5533"
   },
   "outputs": [
    {
     "name": "stdout",
     "output_type": "stream",
     "text": [
      "   patient_id  age gender blood_group severity_level admission_date\n",
      "0           1   30      M          A+           High     2025-01-10\n",
      "1           2   45      F          B-         Medium     2025-02-15\n",
      "2           3   22      F          O+            Low     2025-03-20\n",
      "3           4   55      M         AB+           High     2025-04-05\n",
      "4           5   60      F          A-         Medium     2025-05-12\n",
      "5           6   38      M          O-            Low     2025-06-01\n",
      "6           7   29      F          B+         Medium     2025-07-08\n",
      "7           8   41      M          A+           High     2025-08-14\n",
      "8           9   50      F          O+            Low     2025-09-21\n",
      "9          10   33      M         AB-         Medium     2025-10-28\n",
      "average age of patients is: 40.30\n",
      "Youngest patient age: 22\n",
      "Oldest patient age: 60\n",
      "Unique Blood Types:\n",
      "['A+' 'B-' 'O+' 'AB+' 'A-' 'O-' 'B+' 'AB-']\n",
      "Counts of patients by gender:\n",
      "gender\n",
      "M    5\n",
      "F    5\n",
      "Name: count, dtype: int64\n",
      "   patient_id  age gender blood_group severity_level admission_date\n",
      "2           3   22      F          O+            Low     2025-03-20\n",
      "5           6   38      M          O-            Low     2025-06-01\n",
      "8           9   50      F          O+            Low     2025-09-21\n",
      "1           2   45      F          B-         Medium     2025-02-15\n",
      "4           5   60      F          A-         Medium     2025-05-12\n",
      "6           7   29      F          B+         Medium     2025-07-08\n",
      "9          10   33      M         AB-         Medium     2025-10-28\n",
      "0           1   30      M          A+           High     2025-01-10\n",
      "3           4   55      M         AB+           High     2025-04-05\n",
      "7           8   41      M          A+           High     2025-08-14\n",
      "   patient_id admission_date  days_since_admission\n",
      "0           1     2025-01-10                   224\n",
      "1           2     2025-02-15                   188\n",
      "2           3     2025-03-20                   155\n",
      "3           4     2025-04-05                   139\n",
      "4           5     2025-05-12                   102\n",
      "5           6     2025-06-01                    82\n",
      "6           7     2025-07-08                    45\n",
      "7           8     2025-08-14                     8\n",
      "8           9     2025-09-21                   -30\n",
      "9          10     2025-10-28                   -67\n"
     ]
    }
   ],
   "source": [
    "# using hospital dataset\n",
    "\n",
    "\n",
    "import pandas as pd\n",
    "from datetime import datetime\n",
    "\n",
    "data = {\n",
    "    'patient_id': [1, 2, 3, 4, 5, 6, 7, 8, 9, 10],\n",
    "    'age': [30, 45, 22, 55, 60, 38, 29, 41, 50, 33],\n",
    "    'gender': ['M', 'F', 'F', 'M', 'F', 'M', 'F', 'M', 'F', 'M'],\n",
    "    'blood_group': ['A+', 'B-', 'O+', 'AB+', 'A-', 'O-', 'B+', 'A+', 'O+', 'AB-'],\n",
    "    'severity_level': ['High', 'Medium', 'Low', 'High', 'Medium', 'Low', 'Medium', 'High', 'Low', 'Medium'],\n",
    "    'admission_date': pd.to_datetime(['2025-01-10', '2025-02-15', '2025-03-20', '2025-04-05', '2025-05-12', '2025-06-01', '2025-07-08', '2025-08-14', '2025-09-21', '2025-10-28'])\n",
    "}\n",
    "df = pd.DataFrame(data)\n",
    "print(df)\n",
    "\n",
    "average_age = df['age'].mean()\n",
    "\n",
    "print(f\"average age of patients is: {average_age:.2f}\")\n",
    "\n",
    "youngest_age = df['age'].min()\n",
    "oldest_age = df['age'].max()\n",
    "\n",
    "print(f\"Youngest patient age: {youngest_age}\")\n",
    "print(f\"Oldest patient age: {oldest_age}\")\n",
    "\n",
    "\n",
    "unique_blood_types = df['blood_group'].unique()\n",
    "\n",
    "print(\"Unique Blood Types:\")\n",
    "print(unique_blood_types)\n",
    "\n",
    "gender_counts = df['gender'].value_counts()\n",
    "\n",
    "print(\"Counts of patients by gender:\")\n",
    "print(gender_counts)\n",
    "\n",
    "severity_order = ['Low', 'Medium', 'High']\n",
    "df['severity_level'] = pd.Categorical(df['severity_level'], categories=severity_order, ordered=True)\n",
    "\n",
    "sorted_patients = df.sort_values(by='severity_level')\n",
    "print(sorted_patients)\n",
    "\n",
    "df['admission_date'] = pd.to_datetime(df['admission_date'])\n",
    "\n",
    "current_date = datetime.now().date()\n",
    "\n",
    "df['days_since_admission'] = (pd.to_datetime(current_date) - df['admission_date']).dt.days\n",
    "\n",
    "print(df[['patient_id', 'admission_date', 'days_since_admission']])"
   ]
  }
 ],
 "metadata": {
  "colab": {
   "authorship_tag": "ABX9TyOJa/Zc8OX2vS+Rmol6l1Um",
   "provenance": []
  },
  "kernelspec": {
   "display_name": "Python 3",
   "name": "python3"
  },
  "language_info": {
   "name": "python"
  }
 },
 "nbformat": 4,
 "nbformat_minor": 0
}
